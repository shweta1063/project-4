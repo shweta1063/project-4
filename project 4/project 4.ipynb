{
 "cells": [
  {
   "cell_type": "code",
   "execution_count": null,
   "metadata": {},
   "outputs": [],
   "source": [
    "# project 4\n",
    "#Do the project - Sending mail using Python\n",
    "import smtplib\n",
    "p\n",
    "#smtp session\n",
    "s=smtplib.SMTP(\"smtp.gmail.com\",587)\n",
    "​\n",
    "​\n",
    "#security\n",
    "s.starttls()\n",
    "​\n",
    "s.login(\"info@gmail.com\",\"info456\")\n",
    "msg=input(\"Enter your message here\")\n",
    "s.sendmail(\"info@gmail.com\",\"vinitashj78@gmail.com\",msg)\n",
    "s.quit()"
   ]
  }
 ],
 "metadata": {
  "kernelspec": {
   "display_name": "Python 3",
   "language": "python",
   "name": "python3"
  },
  "language_info": {
   "codemirror_mode": {
    "name": "ipython",
    "version": 3
   },
   "file_extension": ".py",
   "mimetype": "text/x-python",
   "name": "python",
   "nbconvert_exporter": "python",
   "pygments_lexer": "ipython3",
   "version": "3.7.6"
  }
 },
 "nbformat": 4,
 "nbformat_minor": 4
}
